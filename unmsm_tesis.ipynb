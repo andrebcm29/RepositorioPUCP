{
 "cells": [
  {
   "cell_type": "code",
   "execution_count": 1,
   "id": "72775e00",
   "metadata": {},
   "outputs": [],
   "source": [
    "links_unmsm = [\"https://cybertesis.unmsm.edu.pe/handle/20.500.12672/129\",\"https://cybertesis.unmsm.edu.pe/handle/20.500.12672/18699\"]\n",
    "datos_requeridos = [\"dc.contributor.advisor\",\"dc.contributor.author\",\"dc.date.issued\",\"dc.description.abstract\",\"dc.publisher\",\"dc.title\",\"thesis.degree.name\"]\n",
    "datos_requeridos_2 = [\"Asesor\",\"Nombre de tesista\",\"Año de publicación\",\"Resumen\",\"Insitución\",\"Titulo de la tesis\",\"Grado\"]"
   ]
  },
  {
   "cell_type": "markdown",
   "id": "d51da94f",
   "metadata": {},
   "source": [
    "### PARTE '1'"
   ]
  },
  {
   "cell_type": "code",
   "execution_count": 2,
   "id": "63a6c9ca",
   "metadata": {},
   "outputs": [
    {
     "data": {
      "text/plain": [
       "['https://cybertesis.unmsm.edu.pe//handle/20.500.12672/18699?show=full',\n",
       " 'https://cybertesis.unmsm.edu.pe//handle/20.500.12672/18698?show=full',\n",
       " 'https://cybertesis.unmsm.edu.pe//handle/20.500.12672/18037?show=full',\n",
       " 'https://cybertesis.unmsm.edu.pe//handle/20.500.12672/17304?show=full',\n",
       " 'https://cybertesis.unmsm.edu.pe//handle/20.500.12672/17060?show=full',\n",
       " 'https://cybertesis.unmsm.edu.pe//handle/20.500.12672/16679?show=full',\n",
       " 'https://cybertesis.unmsm.edu.pe//handle/20.500.12672/16552?show=full',\n",
       " 'https://cybertesis.unmsm.edu.pe//handle/20.500.12672/16433?show=full',\n",
       " 'https://cybertesis.unmsm.edu.pe//handle/20.500.12672/16064?show=full',\n",
       " 'https://cybertesis.unmsm.edu.pe//handle/20.500.12672/15478?show=full',\n",
       " 'https://cybertesis.unmsm.edu.pe//handle/20.500.12672/15474?show=full',\n",
       " 'https://cybertesis.unmsm.edu.pe//handle/20.500.12672/10776?show=full',\n",
       " 'https://cybertesis.unmsm.edu.pe//handle/20.500.12672/10349?show=full',\n",
       " 'https://cybertesis.unmsm.edu.pe//handle/20.500.12672/10309?show=full',\n",
       " 'https://cybertesis.unmsm.edu.pe//handle/20.500.12672/8448?show=full',\n",
       " 'https://cybertesis.unmsm.edu.pe//handle/20.500.12672/6850?show=full',\n",
       " 'https://cybertesis.unmsm.edu.pe//handle/20.500.12672/1521?show=full',\n",
       " 'https://cybertesis.unmsm.edu.pe//handle/20.500.12672/467?show=full']"
      ]
     },
     "execution_count": 2,
     "metadata": {},
     "output_type": "execute_result"
    }
   ],
   "source": [
    "import requests\n",
    "from bs4 import BeautifulSoup\n",
    "def getTesisUnmsm(links):\n",
    "  links_Tesis = []\n",
    "  for link in links:\n",
    "    html =  requests.get(link).text\n",
    "    soup = BeautifulSoup(html, 'html.parser')\n",
    "    links_Tesis.extend(list(map(lambda x: 'https://cybertesis.unmsm.edu.pe/'+x.find(\"a\").get(\"href\")+'?show=full' , soup.find_all(\"h4\",class_=\"artifact-title\"))))\n",
    "  return links_Tesis\n",
    "getTesisUnmsm(links_unmsm)"
   ]
  },
  {
   "cell_type": "code",
   "execution_count": null,
   "id": "df9904a0",
   "metadata": {},
   "outputs": [],
   "source": []
  }
 ],
 "metadata": {
  "kernelspec": {
   "display_name": "Python 3 (ipykernel)",
   "language": "python",
   "name": "python3"
  },
  "language_info": {
   "codemirror_mode": {
    "name": "ipython",
    "version": 3
   },
   "file_extension": ".py",
   "mimetype": "text/x-python",
   "name": "python",
   "nbconvert_exporter": "python",
   "pygments_lexer": "ipython3",
   "version": "3.9.12"
  }
 },
 "nbformat": 4,
 "nbformat_minor": 5
}
