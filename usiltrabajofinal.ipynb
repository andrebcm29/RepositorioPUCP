{
 "cells": [
  {
   "cell_type": "markdown",
   "id": "c4fe89d0",
   "metadata": {},
   "source": [
    "#### Parte '0'"
   ]
  },
  {
   "cell_type": "code",
   "execution_count": null,
   "id": "c26837be",
   "metadata": {},
   "outputs": [],
   "source": [
    "links_usil = ['https://repositorio.usil.edu.pe/browse/typeuri?scope=5306afac-1d51-4564-ba61-d61858583d80&value=Tesis&bbm.rpp=80']\n",
    "datos_requeridos = [\"dc.publisher\",\"dc.title\",\"dc.contributor.author\",\"thesis.degree.name\",\"dc.contributor.advisor\",\"dc.description.abstract\",\"dc.date.issued\"]\n",
    "datos_requeridos_2 = [\"Asesor\",\"Nombre del tesista\",\"Año\",\"Resumen\",\"Institución\",\"Resumen\",\"Grado\"]"
   ]
  }
 ],
 "metadata": {
  "kernelspec": {
   "display_name": "Python 3 (ipykernel)",
   "language": "python",
   "name": "python3"
  },
  "language_info": {
   "codemirror_mode": {
    "name": "ipython",
    "version": 3
   },
   "file_extension": ".py",
   "mimetype": "text/x-python",
   "name": "python",
   "nbconvert_exporter": "python",
   "pygments_lexer": "ipython3",
   "version": "3.9.13"
  }
 },
 "nbformat": 4,
 "nbformat_minor": 5
}
