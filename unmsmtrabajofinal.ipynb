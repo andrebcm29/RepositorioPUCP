{
 "cells": [
  {
   "cell_type": "code",
   "execution_count": null,
   "id": "4e232e3b",
   "metadata": {},
   "outputs": [],
   "source": [
    "links_unmsm = [\"https://cybertesis.unmsm.edu.pe/handle/20.500.12672/129\",\"https://cybertesis.unmsm.edu.pe/handle/20.500.12672/18699\"]\n",
    "datos_requeridos = [\"dc.contributor.advisor\",\"dc.contributor.author\",\"dc.date.issued\",\"dc.description.abstract\",\"dc.publisher\",\"dc.title\",\"thesis.degree.name\"]\n",
    "datos_requeridos_2 = [\"Asesor\",\"Nombre de tesista\",\"Año de publicación\",\"Resumen\",\"Insitución\",\"Titulo de la tesis\",\"Grado\"]"
   ]
  }
 ],
 "metadata": {
  "kernelspec": {
   "display_name": "Python 3 (ipykernel)",
   "language": "python",
   "name": "python3"
  },
  "language_info": {
   "codemirror_mode": {
    "name": "ipython",
    "version": 3
   },
   "file_extension": ".py",
   "mimetype": "text/x-python",
   "name": "python",
   "nbconvert_exporter": "python",
   "pygments_lexer": "ipython3",
   "version": "3.9.12"
  }
 },
 "nbformat": 4,
 "nbformat_minor": 5
}
