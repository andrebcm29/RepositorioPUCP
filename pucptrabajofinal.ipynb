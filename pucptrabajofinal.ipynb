{
 "cells": [
  {
   "cell_type": "code",
   "execution_count": null,
   "id": "c33e06e0",
   "metadata": {},
   "outputs": [],
   "source": [
    "# Objetos\n",
    "links_pucp = [\"https://tesis.pucp.edu.pe/repositorio/handle/20.500.12404/14\",\"https://tesis.pucp.edu.pe/repositorio/handle/20.500.12404/14/recent-submissions?offset=20\"]\n",
    "datos_requeridos = [\"dc.publisher\",\"dc.title\",\"dc.contributor.author\",\"thesis.degree.name\",\"dc.contributor.advisor\",\"dc.description.abstract\",\"dc.date.issued\"]\n",
    "datos_requeridos_2 = [\"Asesor\",\"Nombre del tesista\",\"Año\",\"Resumen\",\"Institución\",\"Resumen\",\"Grado\"]"
   ]
  }
 ],
 "metadata": {
  "kernelspec": {
   "display_name": "Python 3 (ipykernel)",
   "language": "python",
   "name": "python3"
  },
  "language_info": {
   "codemirror_mode": {
    "name": "ipython",
    "version": 3
   },
   "file_extension": ".py",
   "mimetype": "text/x-python",
   "name": "python",
   "nbconvert_exporter": "python",
   "pygments_lexer": "ipython3",
   "version": "3.9.13"
  }
 },
 "nbformat": 4,
 "nbformat_minor": 5
}
