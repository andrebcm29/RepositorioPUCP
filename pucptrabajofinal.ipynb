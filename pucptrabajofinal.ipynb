{
 "cells": [
  {
   "cell_type": "code",
   "execution_count": null,
   "id": "70ad0ba7",
   "metadata": {},
   "outputs": [],
   "source": [
    "links_pucp = [\"https://tesis.pucp.edu.pe/repositorio/handle/20.500.12404/14\",\"https://tesis.pucp.edu.pe/repositorio/handle/20.500.12404/14/recent-submissions?offset=20\"]\n",
    "datos_requeridos = [\"dc.publisher\",\"dc.title\",\"dc.contributor.author\",\"thesis.degree.name\",\"dc.contributor.advisor\",\"dc.description.abstract\",\"dc.date.issued\"]\n",
    "datos_requeridos_2 = [\"Asesor\",\"Nombre del tesista\",\"Año\",\"Resumen\",\"Institución\",\"Resumen\",\"Grado\"]"
   ]
  },
  {
   "cell_type": "markdown",
   "id": "27877180",
   "metadata": {},
   "source": [
    "Con el siguiente codigo, creamos una funcion que nos extraiga los links en donde se encuentran los ficheros de cada una de las tesis, almacenandose en una lista"
   ]
  },
  {
   "cell_type": "code",
   "execution_count": 2,
   "id": "5147a689",
   "metadata": {
    "scrolled": true
   },
   "outputs": [
    {
     "data": {
      "text/plain": [
       "['https://tesis.pucp.edu.pe/repositorio/handle/20.500.12404/23887?show=full',\n",
       " 'https://tesis.pucp.edu.pe/repositorio/handle/20.500.12404/23555?show=full',\n",
       " 'https://tesis.pucp.edu.pe/repositorio/handle/20.500.12404/23549?show=full',\n",
       " 'https://tesis.pucp.edu.pe/repositorio/handle/20.500.12404/23548?show=full',\n",
       " 'https://tesis.pucp.edu.pe/repositorio/handle/20.500.12404/23266?show=full',\n",
       " 'https://tesis.pucp.edu.pe/repositorio/handle/20.500.12404/23261?show=full',\n",
       " 'https://tesis.pucp.edu.pe/repositorio/handle/20.500.12404/23141?show=full',\n",
       " 'https://tesis.pucp.edu.pe/repositorio/handle/20.500.12404/23059?show=full',\n",
       " 'https://tesis.pucp.edu.pe/repositorio/handle/20.500.12404/22894?show=full',\n",
       " 'https://tesis.pucp.edu.pe/repositorio/handle/20.500.12404/22873?show=full',\n",
       " 'https://tesis.pucp.edu.pe/repositorio/handle/20.500.12404/22766?show=full',\n",
       " 'https://tesis.pucp.edu.pe/repositorio/handle/20.500.12404/22670?show=full',\n",
       " 'https://tesis.pucp.edu.pe/repositorio/handle/20.500.12404/22557?show=full',\n",
       " 'https://tesis.pucp.edu.pe/repositorio/handle/20.500.12404/22505?show=full',\n",
       " 'https://tesis.pucp.edu.pe/repositorio/handle/20.500.12404/22407?show=full',\n",
       " 'https://tesis.pucp.edu.pe/repositorio/handle/20.500.12404/22388?show=full',\n",
       " 'https://tesis.pucp.edu.pe/repositorio/handle/20.500.12404/22313?show=full',\n",
       " 'https://tesis.pucp.edu.pe/repositorio/handle/20.500.12404/22235?show=full',\n",
       " 'https://tesis.pucp.edu.pe/repositorio/handle/20.500.12404/22221?show=full',\n",
       " 'https://tesis.pucp.edu.pe/repositorio/handle/20.500.12404/22146?show=full',\n",
       " 'https://tesis.pucp.edu.pe/repositorio/handle/20.500.12404/22048?show=full',\n",
       " 'https://tesis.pucp.edu.pe/repositorio/handle/20.500.12404/21844?show=full',\n",
       " 'https://tesis.pucp.edu.pe/repositorio/handle/20.500.12404/21800?show=full',\n",
       " 'https://tesis.pucp.edu.pe/repositorio/handle/20.500.12404/21755?show=full',\n",
       " 'https://tesis.pucp.edu.pe/repositorio/handle/20.500.12404/21690?show=full',\n",
       " 'https://tesis.pucp.edu.pe/repositorio/handle/20.500.12404/21548?show=full',\n",
       " 'https://tesis.pucp.edu.pe/repositorio/handle/20.500.12404/21525?show=full',\n",
       " 'https://tesis.pucp.edu.pe/repositorio/handle/20.500.12404/21493?show=full',\n",
       " 'https://tesis.pucp.edu.pe/repositorio/handle/20.500.12404/21124?show=full',\n",
       " 'https://tesis.pucp.edu.pe/repositorio/handle/20.500.12404/21061?show=full',\n",
       " 'https://tesis.pucp.edu.pe/repositorio/handle/20.500.12404/20956?show=full',\n",
       " 'https://tesis.pucp.edu.pe/repositorio/handle/20.500.12404/20874?show=full',\n",
       " 'https://tesis.pucp.edu.pe/repositorio/handle/20.500.12404/20820?show=full',\n",
       " 'https://tesis.pucp.edu.pe/repositorio/handle/20.500.12404/20520?show=full',\n",
       " 'https://tesis.pucp.edu.pe/repositorio/handle/20.500.12404/20515?show=full',\n",
       " 'https://tesis.pucp.edu.pe/repositorio/handle/20.500.12404/20461?show=full',\n",
       " 'https://tesis.pucp.edu.pe/repositorio/handle/20.500.12404/20329?show=full',\n",
       " 'https://tesis.pucp.edu.pe/repositorio/handle/20.500.12404/20217?show=full',\n",
       " 'https://tesis.pucp.edu.pe/repositorio/handle/20.500.12404/20194?show=full',\n",
       " 'https://tesis.pucp.edu.pe/repositorio/handle/20.500.12404/19779?show=full']"
      ]
     },
     "execution_count": 2,
     "metadata": {},
     "output_type": "execute_result"
    }
   ],
   "source": [
    "import requests\n",
    "from bs4 import BeautifulSoup\n",
    "def getTesisPucp(links): \n",
    "  links_Tesis = [] #creamos una lista vacia\n",
    "  for link in links:\n",
    "    html =  requests.get(link).text #lo convierte a texto \n",
    "    soup = BeautifulSoup(html, 'html.parser') #nos ayuda para la extraccion de datos\n",
    "    links_Tesis.extend(list(map(lambda x: 'https://tesis.pucp.edu.pe'+x.find(\"a\").get(\"href\")+'?show=full' , soup.find_all(\"h4\",class_=\"artifact-title\"))))\n",
    "    # .extend() agrega cada uno de los elemtos a la lista en el orden en el que aparecen\n",
    "    # list(map(lambda x:.....,....)) es un filtro que aplica una condición a cada elemento de una lista \n",
    "    # por lo tanto nos pide que hallemos los 'a' con 'href' encontrados en los 'h4' de la class=\"artifact-title\"\n",
    "    # y que a su vez se les agregue en el incio un 'https://tesis.pucp.edu.pe' y al final un '?show=full'\n",
    "  return links_Tesis\n",
    "getTesisPucp(links_pucp)"
   ]
  },
  {
   "cell_type": "code",
   "execution_count": 2,
   "id": "3c1974bb",
   "metadata": {},
   "outputs": [
    {
     "ename": "NameError",
     "evalue": "name 'datos_requeridos' is not defined",
     "output_type": "error",
     "traceback": [
      "\u001b[1;31m---------------------------------------------------------------------------\u001b[0m",
      "\u001b[1;31mNameError\u001b[0m                                 Traceback (most recent call last)",
      "\u001b[1;32m~\\AppData\\Local\\Temp\\ipykernel_2288\\1550588526.py\u001b[0m in \u001b[0;36m<module>\u001b[1;34m\u001b[0m\n\u001b[0;32m     23\u001b[0m    \u001b[0mresponse_data\u001b[0m \u001b[1;33m=\u001b[0m \u001b[0mdict\u001b[0m\u001b[1;33m(\u001b[0m\u001b[0mzip\u001b[0m\u001b[1;33m(\u001b[0m\u001b[0mdatos_requeridos_2\u001b[0m\u001b[1;33m,\u001b[0m\u001b[0mlist\u001b[0m\u001b[1;33m(\u001b[0m\u001b[0mresponse\u001b[0m\u001b[1;33m.\u001b[0m\u001b[0mvalues\u001b[0m\u001b[1;33m(\u001b[0m\u001b[1;33m)\u001b[0m\u001b[1;33m)\u001b[0m\u001b[1;33m)\u001b[0m\u001b[1;33m)\u001b[0m\u001b[1;33m\u001b[0m\u001b[1;33m\u001b[0m\u001b[0m\n\u001b[0;32m     24\u001b[0m    \u001b[1;32mreturn\u001b[0m \u001b[0mresponse_data\u001b[0m\u001b[1;33m\u001b[0m\u001b[1;33m\u001b[0m\u001b[0m\n\u001b[1;32m---> 25\u001b[1;33m \u001b[0mgetDatosDeTesis\u001b[0m\u001b[1;33m(\u001b[0m\u001b[1;34m'https://tesis.pucp.edu.pe/repositorio/handle/20.500.12404/22146?show=full'\u001b[0m\u001b[1;33m)\u001b[0m\u001b[1;33m\u001b[0m\u001b[1;33m\u001b[0m\u001b[0m\n\u001b[0m",
      "\u001b[1;32m~\\AppData\\Local\\Temp\\ipykernel_2288\\1550588526.py\u001b[0m in \u001b[0;36mgetDatosDeTesis\u001b[1;34m(linktesis)\u001b[0m\n\u001b[0;32m     14\u001b[0m      \u001b[0mcolumnas\u001b[0m \u001b[1;33m=\u001b[0m \u001b[0mlist\u001b[0m\u001b[1;33m(\u001b[0m\u001b[0mmap\u001b[0m\u001b[1;33m(\u001b[0m\u001b[1;32mlambda\u001b[0m \u001b[0mx\u001b[0m\u001b[1;33m:\u001b[0m \u001b[0mx\u001b[0m\u001b[1;33m.\u001b[0m\u001b[0mstring\u001b[0m\u001b[1;33m,\u001b[0m \u001b[0mfila\u001b[0m\u001b[1;33m.\u001b[0m\u001b[0mfind_all\u001b[0m\u001b[1;33m(\u001b[0m\u001b[1;34m\"td\"\u001b[0m\u001b[1;33m)\u001b[0m\u001b[1;33m)\u001b[0m\u001b[1;33m)\u001b[0m\u001b[1;33m[\u001b[0m\u001b[1;36m0\u001b[0m\u001b[1;33m:\u001b[0m\u001b[1;36m2\u001b[0m\u001b[1;33m]\u001b[0m\u001b[1;33m\u001b[0m\u001b[1;33m\u001b[0m\u001b[0m\n\u001b[0;32m     15\u001b[0m      \u001b[0mdato\u001b[0m \u001b[1;33m=\u001b[0m \u001b[0mcolumnas\u001b[0m\u001b[1;33m[\u001b[0m\u001b[1;36m0\u001b[0m\u001b[1;33m]\u001b[0m\u001b[1;33m\u001b[0m\u001b[1;33m\u001b[0m\u001b[0m\n\u001b[1;32m---> 16\u001b[1;33m      \u001b[1;32mif\u001b[0m\u001b[1;33m(\u001b[0m\u001b[0mdato\u001b[0m \u001b[1;32min\u001b[0m \u001b[0mdatos_requeridos\u001b[0m\u001b[1;33m)\u001b[0m\u001b[1;33m:\u001b[0m\u001b[1;33m\u001b[0m\u001b[1;33m\u001b[0m\u001b[0m\n\u001b[0m\u001b[0;32m     17\u001b[0m        \u001b[0mdatos\u001b[0m\u001b[1;33m.\u001b[0m\u001b[0mappend\u001b[0m\u001b[1;33m(\u001b[0m\u001b[0mcolumnas\u001b[0m\u001b[1;33m)\u001b[0m\u001b[1;33m\u001b[0m\u001b[1;33m\u001b[0m\u001b[0m\n\u001b[0;32m     18\u001b[0m     \u001b[1;31m#De cada fila en tabla buscamos todos los 'td', los volvemos string y enlistamos en 'columnas'\u001b[0m\u001b[1;33m\u001b[0m\u001b[1;33m\u001b[0m\u001b[0m\n",
      "\u001b[1;31mNameError\u001b[0m: name 'datos_requeridos' is not defined"
     ]
    }
   ],
   "source": [
    "import requests   #Librerías\n",
    "from bs4 import BeautifulSoup  \n",
    "\n",
    "def getDatosDeTesis(linktesis): #Comenzamos la función\n",
    "   datos = []\n",
    "\n",
    "   html = requests.get(linktesis).text\n",
    "   soup = BeautifulSoup(html, 'html.parser') \n",
    "\n",
    "   tabla = soup.find_all(\"tr\",class_=\"ds-table-row\")\n",
    "    #Creamos una tabla donde buscamos los 'tr' de class_=\"ds-table-row\"\n",
    "    \n",
    "    #De cada fila en tabla buscamos todos los 'td', los volvemos string y enlistamos en 'columnas'\n",
    "   for fila in tabla:\n",
    "     columnas = list(map(lambda x: x.string, fila.find_all(\"td\")))[0:2] \n",
    "    #La primera columna de 'columnas' en datos   \n",
    "     dato = columnas[0]  \n",
    "    #Si 'dato' coincide con 'datos_requeridos' almacenar en 'datos'    \n",
    "     if(dato in datos_requeridos): \n",
    "       datos.append(columnas)\n",
    "    \n",
    "   datos = [{item[0]:item[1]} for item in datos]\n",
    "   respuesta = {}\n",
    "   for dato in datos:\n",
    "     respuesta.update(dato)\n",
    "   respuesta_datos = dict(zip(datos_requeridos_2,list(response.values())))\n",
    "   return respuesta_datos\n",
    "\n",
    "    #Probamos con un link de tesis\n",
    "getDatosDeTesis('https://tesis.pucp.edu.pe/repositorio/handle/20.500.12404/22146?show=full')"
   ]
  },
  {
   "cell_type": "code",
   "execution_count": null,
   "id": "479cb320",
   "metadata": {},
   "outputs": [],
   "source": []
  }
 ],
 "metadata": {
  "kernelspec": {
   "display_name": "Python 3 (ipykernel)",
   "language": "python",
   "name": "python3"
  },
  "language_info": {
   "codemirror_mode": {
    "name": "ipython",
    "version": 3
   },
   "file_extension": ".py",
   "mimetype": "text/x-python",
   "name": "python",
   "nbconvert_exporter": "python",
   "pygments_lexer": "ipython3",
   "version": "3.9.13"
  }
 },
 "nbformat": 4,
 "nbformat_minor": 5
}
