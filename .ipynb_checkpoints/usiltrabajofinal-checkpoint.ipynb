{
 "cells": [
  {
   "cell_type": "markdown",
   "id": "c4fe89d0",
   "metadata": {},
   "source": [
    "#### Parte '0'"
   ]
  },
  {
   "cell_type": "code",
   "execution_count": 1,
   "id": "c26837be",
   "metadata": {},
   "outputs": [],
   "source": [
    "links_usil = ['https://repositorio.usil.edu.pe/browse/typeuri?scope=5306afac-1d51-4564-ba61-d61858583d80&value=Tesis&bbm.rpp=80']\n",
    "datos_requeridos = [\"dc.publisher\",\"dc.title\",\"dc.contributor.author\",\"thesis.degree.name\",\"dc.contributor.advisor\",\"dc.description.abstract\",\"dc.date.issued\"]\n",
    "datos_requeridos_2 = [\"Asesor\",\"Nombre del tesista\",\"Año\",\"Resumen\",\"Institución\",\"Resumen\",\"Grado\"]"
   ]
  },
  {
   "cell_type": "markdown",
   "id": "fc31729d",
   "metadata": {},
   "source": [
    "#### Parte '1'"
   ]
  },
  {
   "cell_type": "code",
   "execution_count": 2,
   "id": "1ebe0510",
   "metadata": {
    "scrolled": true
   },
   "outputs": [
    {
     "data": {
      "text/plain": [
       "['https://repositorio.usil.edu.pe//items/e431cbdd-f82f-4212-8956-57ed3c52e055/full',\n",
       " 'https://repositorio.usil.edu.pe//items/0d4d3d91-24a3-446c-8400-29ef9f8a7489/full',\n",
       " 'https://repositorio.usil.edu.pe//items/e2a4c845-1a79-4a15-8dee-e8abd621e34d/full',\n",
       " 'https://repositorio.usil.edu.pe//items/54504e45-f17c-48ed-bd06-64869bf61d81/full',\n",
       " 'https://repositorio.usil.edu.pe//items/a056d113-6cc8-43b7-9edf-6106e38a9636/full',\n",
       " 'https://repositorio.usil.edu.pe//items/96b111e7-8ca0-495d-9c4a-6662c4d3d0db/full',\n",
       " 'https://repositorio.usil.edu.pe//items/068ba270-5773-4dc3-8ba8-3c359c3055bb/full',\n",
       " 'https://repositorio.usil.edu.pe//items/df1b530d-ad34-41bf-a60a-8f6c7b1339e6/full',\n",
       " 'https://repositorio.usil.edu.pe//items/3c7ab9d4-f850-4ef1-919f-d9626fba237d/full',\n",
       " 'https://repositorio.usil.edu.pe//items/8bcd27d1-07b7-4c67-aca7-53fcd7ef2717/full',\n",
       " 'https://repositorio.usil.edu.pe//items/d77b963a-3029-43dd-b57d-39f5d5a27d3f/full',\n",
       " 'https://repositorio.usil.edu.pe//items/d6e120ab-6355-40b6-9841-ada84459829e/full',\n",
       " 'https://repositorio.usil.edu.pe//items/027febf9-9305-41e5-84d6-4c222e5cd292/full',\n",
       " 'https://repositorio.usil.edu.pe//items/574da661-d038-4ecd-aa85-71349fe5c517/full',\n",
       " 'https://repositorio.usil.edu.pe//items/1974e1b3-95d7-4015-8bee-08c6e56250a8/full',\n",
       " 'https://repositorio.usil.edu.pe//items/397925fc-7925-4d1f-a807-7b8f55ce5234/full',\n",
       " 'https://repositorio.usil.edu.pe//items/43f67de4-575c-42b6-9c77-0210b43b1fb4/full',\n",
       " 'https://repositorio.usil.edu.pe//items/b3f38bab-7627-41b7-8ba3-b880fa4094c7/full',\n",
       " 'https://repositorio.usil.edu.pe//items/e4e68e11-e1f1-43f6-bdb9-ab4de28f4edb/full',\n",
       " 'https://repositorio.usil.edu.pe//items/95afd218-405b-4faa-bd26-f8438c8f5483/full',\n",
       " 'https://repositorio.usil.edu.pe//items/4cdee895-fab3-4326-8a27-9eeefa5ee993/full',\n",
       " 'https://repositorio.usil.edu.pe//items/f19beb80-eec4-4213-8782-9bb9ae30afae/full',\n",
       " 'https://repositorio.usil.edu.pe//items/c1ca585c-ff27-4ea6-9ee3-503bff70612b/full',\n",
       " 'https://repositorio.usil.edu.pe//items/bdbf756f-3915-4cec-afdb-b993ebcdb62f/full',\n",
       " 'https://repositorio.usil.edu.pe//items/0b9154f6-4a94-4692-839b-ed42fce84729/full',\n",
       " 'https://repositorio.usil.edu.pe//items/860031f8-c72e-4693-b40d-cdb5e11a72aa/full',\n",
       " 'https://repositorio.usil.edu.pe//items/ecb340ed-9dd3-4e97-aa32-c503e2753c59/full',\n",
       " 'https://repositorio.usil.edu.pe//items/b6e5fb27-8ff5-4d2e-aadd-37d3b19ea993/full',\n",
       " 'https://repositorio.usil.edu.pe//items/1ff200e6-48bc-49c2-92f0-1e6852348f1f/full',\n",
       " 'https://repositorio.usil.edu.pe//items/256533b5-dba7-4dfb-9ce7-e4887fc31fd3/full',\n",
       " 'https://repositorio.usil.edu.pe//items/3bdce8dc-5176-4a21-bdc0-46a5f839a9ec/full',\n",
       " 'https://repositorio.usil.edu.pe//items/cc54b2a4-6204-4c5c-b919-d588c2564fd6/full',\n",
       " 'https://repositorio.usil.edu.pe//items/0cf7bb75-1ba5-4b64-bd91-20a4281ff322/full',\n",
       " 'https://repositorio.usil.edu.pe//items/ae751122-60bf-4d53-b3ee-8fa7f2ce6e67/full',\n",
       " 'https://repositorio.usil.edu.pe//items/d6f7a8a8-e45c-4ba8-8124-1207b20db428/full',\n",
       " 'https://repositorio.usil.edu.pe//items/d2c4d24f-5e25-4920-8cf5-4425ad771686/full',\n",
       " 'https://repositorio.usil.edu.pe//items/2b001844-8aa0-4a67-a911-51f4ec36a2bb/full',\n",
       " 'https://repositorio.usil.edu.pe//items/2614df57-73ad-48c5-b59d-0179f821a9a4/full',\n",
       " 'https://repositorio.usil.edu.pe//items/5900a0f2-87a8-4b0d-8801-8e76891e7357/full',\n",
       " 'https://repositorio.usil.edu.pe//items/6e44627b-0932-4a1f-9409-3aede67ee864/full',\n",
       " 'https://repositorio.usil.edu.pe//items/1b20e7ef-ed3e-4805-91bf-0d486669e019/full',\n",
       " 'https://repositorio.usil.edu.pe//items/adba725c-bbfa-4b18-b768-44b35b4b4f0d/full',\n",
       " 'https://repositorio.usil.edu.pe//items/0ff03c43-a493-49d3-ba6c-923de1f230a3/full',\n",
       " 'https://repositorio.usil.edu.pe//items/809fd1ec-2e79-48db-b4e1-fdcdf054796a/full',\n",
       " 'https://repositorio.usil.edu.pe//items/d85c06f8-d758-45db-b040-b9f6c648b0d2/full',\n",
       " 'https://repositorio.usil.edu.pe//items/44a3f08d-0871-406c-b069-e1d7adbee243/full',\n",
       " 'https://repositorio.usil.edu.pe//items/acbebda3-6d70-4c9d-8f10-0aa13ca9cb71/full',\n",
       " 'https://repositorio.usil.edu.pe//items/23125b64-a437-494d-b1a2-3cec7abd0bf8/full',\n",
       " 'https://repositorio.usil.edu.pe//items/4a0f350b-5fcf-4599-aea3-61bc1699530e/full',\n",
       " 'https://repositorio.usil.edu.pe//items/133117f5-2025-440b-9fe3-96bf7a2dd9fa/full',\n",
       " 'https://repositorio.usil.edu.pe//items/0c794207-8757-4893-b050-91ee3913f694/full',\n",
       " 'https://repositorio.usil.edu.pe//items/69e3c1db-7275-4110-be14-3fb83ae14847/full',\n",
       " 'https://repositorio.usil.edu.pe//items/12a47f2c-622c-4101-8f52-869ecf9624fd/full',\n",
       " 'https://repositorio.usil.edu.pe//items/2fcabdd0-35b6-4b72-82dd-72f891657cd7/full',\n",
       " 'https://repositorio.usil.edu.pe//items/197af597-49f1-4229-9d32-62e8c1ae4d6d/full',\n",
       " 'https://repositorio.usil.edu.pe//items/75413a4d-8505-42f4-8180-1fda5d36f5ad/full']"
      ]
     },
     "execution_count": 2,
     "metadata": {},
     "output_type": "execute_result"
    }
   ],
   "source": [
    "#Librerías\n",
    "\n",
    "import requests\n",
    "from bs4 import BeautifulSoup\n",
    "def getTesisUsil(links):\n",
    "    links_tesis = [] #creamos una lista vacia\n",
    "    for link in links:\n",
    "        html = requests.get(link).text #lo convierte a texto \n",
    "        soup = BeautifulSoup(html, 'html.parser')  #nos ayuda para la extraccion de datos\n",
    "        links_tesis.extend(list(map(lambda x: 'https://repositorio.usil.edu.pe/'+x.get(\"href\")+'/full', soup.find_all('a', class_=\"lead item-list-title ng-star-inserted\"))))\n",
    "        # .extend() agrega cada uno de los elemtos a la lista en el orden en el que aparecen\n",
    "        # list(map(lambda x:.....,....)) es un filtro que aplica una condición a cada elemento de una lista \n",
    "    return links_tesis\n",
    "                           \n",
    "getTesisUsil(links_usil)\n"
   ]
  },
  {
   "cell_type": "markdown",
   "id": "aad8f488",
   "metadata": {},
   "source": [
    "#### Parte '2'"
   ]
  },
  {
   "cell_type": "code",
   "execution_count": 3,
   "id": "275abae0",
   "metadata": {},
   "outputs": [
    {
     "data": {
      "text/plain": [
       "{'Asesor': 'Fernández-Iparraguirre, Jaddy',\n",
       " 'Nombre del tesista': 'Angulo Corzo, Rolando Anthony',\n",
       " 'Año': '2017',\n",
       " 'Resumen': 'Agentes móviles para la recuperación personalizada de información en la municipalidad de Los Olivos - 2015',\n",
       " 'Institución': 'Universidad San Ignacio de Loyola',\n",
       " 'Grado': 'Ingeniero Informático y de Sistemas'}"
      ]
     },
     "execution_count": 3,
     "metadata": {},
     "output_type": "execute_result"
    }
   ],
   "source": [
    "import requests   #Librerías que usaremos\n",
    "from bs4 import BeautifulSoup  \n",
    "\n",
    "def getDatosDeTesis(linktesis): #Comenzamos la función\n",
    "   datos = []\n",
    "   html = requests.get(linktesis).text\n",
    "   soup = BeautifulSoup(html, 'html.parser')\n",
    "#Creamos un objeto 'tabla' donde buscamos los 'tr' de class_=\"ng-tns-c505-8 ng-star-inserted\"\n",
    "   tabla = soup.find_all(\"tr\", class_=\"ng-tns-c542-2 ng-star-inserted\")\n",
    "    \n",
    "#De cada fila en tabla buscamos todos los 'td', los volvemos string y enlistamos en 'columnas'\n",
    "   for fila in tabla:\n",
    "     columnas = list(map(lambda x: x.string, fila.find_all(\"td\")))[0:2] \n",
    "    #La primera columna de 'columnas' en datos   \n",
    "     dato = columnas[0]  \n",
    "        \n",
    "    #Si 'dato' coincide con 'datos_requeridos' almacenar en 'datos'    \n",
    "     if(dato in datos_requeridos): \n",
    "       datos.append(columnas)\n",
    "    \n",
    "    #Nos quedamos con la primera y segunda columna de 'datos', almancenando en varios diccionarios\n",
    "   datos = [{item[0]:item[1]} for item in datos]\n",
    "   respuesta = {} #nuevo diccionario\n",
    "    \n",
    "    #Insertamos los diccionarios como elementos del nuevo diccionario\n",
    "   for dato in datos:\n",
    "     respuesta.update(dato)\n",
    "        \n",
    "    #Enlistamos los valores del diccionario 'respuesta' y los emparejamos con 'datos_requeridos_2' con zip()\n",
    "    #Se almecena todo a un nuevo diccionario 'respuesta_datos'\n",
    "   respuesta_datos = dict(zip(datos_requeridos_2,list(respuesta.values())))\n",
    "\n",
    "   return respuesta_datos   #nos retorna respuesta_datos\n",
    "\n",
    "    #Probamos con un link de tesis\n",
    "getDatosDeTesis('https://repositorio.usil.edu.pe//items/e431cbdd-f82f-4212-8956-57ed3c52e055/full')"
   ]
  }
 ],
 "metadata": {
  "kernelspec": {
   "display_name": "Python 3 (ipykernel)",
   "language": "python",
   "name": "python3"
  },
  "language_info": {
   "codemirror_mode": {
    "name": "ipython",
    "version": 3
   },
   "file_extension": ".py",
   "mimetype": "text/x-python",
   "name": "python",
   "nbconvert_exporter": "python",
   "pygments_lexer": "ipython3",
   "version": "3.9.12"
  }
 },
 "nbformat": 4,
 "nbformat_minor": 5
}
