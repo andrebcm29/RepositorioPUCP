{
 "cells": [
  {
   "cell_type": "markdown",
   "id": "6374793d",
   "metadata": {},
   "source": [
    "#### Parte '0' \n",
    "Empezamos nuestro código definiendo 3 objetos lista almacenados según el repositorio de la universidad escogida, en este caso San Marcos, y de la manera en que hayan guardado los ficheros de tesis."
   ]
  },
  {
   "cell_type": "code",
   "execution_count": 1,
   "id": "4e232e3b",
   "metadata": {},
   "outputs": [],
   "source": [
    "links_unmsm = [\"https://cybertesis.unmsm.edu.pe/handle/20.500.12672/129\",\"https://cybertesis.unmsm.edu.pe/handle/20.500.12672/18699\"]\n",
    "datos_requeridos = [\"dc.contributor.advisor\",\"dc.contributor.author\",\"dc.date.issued\",\"dc.description.abstract\",\"dc.publisher\",\"dc.title\",\"thesis.degree.name\"]\n",
    "datos_requeridos_2 = [\"Asesor\",\"Nombre de tesista\",\"Año de publicación\",\"Resumen\",\"Insitución\",\"Titulo de la tesis\",\"Grado\"]"
   ]
  },
  {
   "cell_type": "markdown",
   "id": "8ce977f2",
   "metadata": {},
   "source": [
    "#### Parte '1'\n",
    "Con el siguiente codigo, creamos una funcion que nos extraiga los links en donde se encuentran los ficheros de cada una de las tesis, almacenandose en una lista"
   ]
  },
  {
   "cell_type": "code",
   "execution_count": 2,
   "id": "0a77215b",
   "metadata": {},
   "outputs": [
    {
     "data": {
      "text/plain": [
       "['https://cybertesis.unmsm.edu.pe/handle/20.500.12672/18699?show=full',\n",
       " 'https://cybertesis.unmsm.edu.pe/handle/20.500.12672/18698?show=full',\n",
       " 'https://cybertesis.unmsm.edu.pe/handle/20.500.12672/18037?show=full',\n",
       " 'https://cybertesis.unmsm.edu.pe/handle/20.500.12672/17304?show=full',\n",
       " 'https://cybertesis.unmsm.edu.pe/handle/20.500.12672/17060?show=full',\n",
       " 'https://cybertesis.unmsm.edu.pe/handle/20.500.12672/16679?show=full',\n",
       " 'https://cybertesis.unmsm.edu.pe/handle/20.500.12672/16552?show=full',\n",
       " 'https://cybertesis.unmsm.edu.pe/handle/20.500.12672/16433?show=full',\n",
       " 'https://cybertesis.unmsm.edu.pe/handle/20.500.12672/16064?show=full',\n",
       " 'https://cybertesis.unmsm.edu.pe/handle/20.500.12672/15478?show=full',\n",
       " 'https://cybertesis.unmsm.edu.pe/handle/20.500.12672/15474?show=full',\n",
       " 'https://cybertesis.unmsm.edu.pe/handle/20.500.12672/10776?show=full',\n",
       " 'https://cybertesis.unmsm.edu.pe/handle/20.500.12672/10349?show=full',\n",
       " 'https://cybertesis.unmsm.edu.pe/handle/20.500.12672/10309?show=full',\n",
       " 'https://cybertesis.unmsm.edu.pe/handle/20.500.12672/8448?show=full',\n",
       " 'https://cybertesis.unmsm.edu.pe/handle/20.500.12672/6850?show=full',\n",
       " 'https://cybertesis.unmsm.edu.pe/handle/20.500.12672/1521?show=full',\n",
       " 'https://cybertesis.unmsm.edu.pe/handle/20.500.12672/467?show=full']"
      ]
     },
     "execution_count": 2,
     "metadata": {},
     "output_type": "execute_result"
    }
   ],
   "source": [
    "import requests\n",
    "from bs4 import BeautifulSoup\n",
    "def getTesisunmsm(links): \n",
    "  links_Tesis = [] #creamos una lista vacia\n",
    "  for link in links:\n",
    "    html =  requests.get(link).text #lo convierte a texto \n",
    "    soup = BeautifulSoup(html, 'html.parser') #nos ayuda para la extraccion de datos\n",
    "    links_Tesis.extend(list(map(lambda x: 'https://cybertesis.unmsm.edu.pe'+x.find(\"a\").get(\"href\")+'?show=full' , soup.find_all(\"h4\",class_=\"artifact-title\"))))\n",
    "    # .extend() agrega cada uno de los elementos a la lista en el orden en el que aparecen\n",
    "    # list(map(lambda x:.....,....)) es un filtro que aplica una condición a cada elemento de una lista \n",
    "    # por lo tanto nos pide que hallemos los 'a' con 'href' encontrados en los 'h4' de la class=\"artifact-title\"\n",
    "    # y que a su vez se les agregue en el incio un 'https://cybertesis.unmsm.edu.pe' y al final un '?show=full'\n",
    "  return links_Tesis\n",
    "getTesisunmsm(links_unmsm)"
   ]
  },
  {
   "cell_type": "markdown",
   "id": "9504b2d9",
   "metadata": {},
   "source": [
    "#### Parte'2'"
   ]
  },
  {
   "cell_type": "code",
   "execution_count": 3,
   "id": "a26820dc",
   "metadata": {},
   "outputs": [
    {
     "data": {
      "text/plain": [
       "{}"
      ]
     },
     "execution_count": 3,
     "metadata": {},
     "output_type": "execute_result"
    }
   ],
   "source": [
    "import requests\n",
    "#Librerías\n",
    "from bs4 import BeautifulSoup\n",
    "def getDatosDeTesis(linktesis):\n",
    "  #Comenzamos la función\n",
    "   datos = []\n",
    "   html = requests.get(linktesis).text\n",
    "   soup = BeautifulSoup(html, 'html.parser')\n",
    "   #Creamos una tabla donde buscamos los 'tr' de class_=\"ds-table-row\"\n",
    "   tabla = soup.find_all(\"tr\",class_=\"ds-table-row\")\n",
    "   for fila in tabla:\n",
    "     columnas = list(map(lambda x: x.string, fila.find_all(\"td\")))[0:2]\n",
    "      #De cada fila en tabla buscamos todos los 'td', los volvemos string y enlistamos en 'columnas'\n",
    "      #La primera columna de 'columnas' en datos\n",
    "     dato = columnas[0]\n",
    "     #Si 'dato' coincide con 'datos_requeridos' almacenar en 'datos'\n",
    "     if(dato in datos_requeridos):\n",
    "       datos.append(columnas)\n",
    "       #Nos quedamos con la primera y segunda columna de 'datos', almancenando en varios diccionarios\n",
    "   datos = [{item[0]:item[1]} for item in datos]\n",
    "   response = {}#nuevo diccionario\n",
    "   #Insertamos los diccionarios como elementos del nuevo diccionario\n",
    "   for dato in datos:\n",
    "     response.update(dato)\n",
    "     #Enlistamos los valores del diccionario 'respuesta' y los emparejamos con 'datos_requeridos_2' con zip()\n",
    "    #Se almecena todo a un nuevo diccionario 'respuesta_datos'\n",
    "   response_data = dict(zip(datos_requeridos_2,list(response.values())))\n",
    "   return response_data  #fin de la función\n",
    "getDatosDeTesis('https://cybertesis.unmsm.edu.pe//handle/20.500.12672/5144?show=full') #Probamos con un link de tesis"
   ]
  },
  {
   "cell_type": "code",
   "execution_count": null,
   "id": "e75814d1",
   "metadata": {},
   "outputs": [],
   "source": []
  }
 ],
 "metadata": {
  "kernelspec": {
   "display_name": "Python 3 (ipykernel)",
   "language": "python",
   "name": "python3"
  },
  "language_info": {
   "codemirror_mode": {
    "name": "ipython",
    "version": 3
   },
   "file_extension": ".py",
   "mimetype": "text/x-python",
   "name": "python",
   "nbconvert_exporter": "python",
   "pygments_lexer": "ipython3",
   "version": "3.9.12"
  }
 },
 "nbformat": 4,
 "nbformat_minor": 5
}
